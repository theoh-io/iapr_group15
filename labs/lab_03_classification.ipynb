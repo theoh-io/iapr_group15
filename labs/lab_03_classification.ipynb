{
 "cells": [
  {
   "cell_type": "markdown",
   "metadata": {},
   "source": [
    "# [IAPR][iapr]: Lab 3 ‒  Classification\n",
    "\n",
    "\n",
    "**Group ID:** xx\n",
    "\n",
    "**Author 1 (sciper):** Student Name 1 (xxxxx)  \n",
    "**Author 2 (sciper):** Student Name 2 (xxxxx)   \n",
    "**Author 3 (sciper):** Student Name 3 (xxxxx)   \n",
    "\n",
    "**Release date:** 19.04.2023  \n",
    "**Due date:** 05.05.2023 \n",
    "\n",
    "\n",
    "## Important notes\n",
    "\n",
    "The lab assignments are designed to teach practical implementation of the topics presented during class well as\n",
    "preparation for the final project, which is a practical project which ties together the topics of the course.\n",
    "\n",
    "As such, in the lab assignments/final project, unless otherwise specified, you may, if you choose, use external\n",
    "functions from image processing/ML libraries like opencv and sklearn as long as there is sufficient explanation\n",
    "in the lab report. For example, you do not need to implement your own edge detector, etc.\n",
    "\n",
    "**! Before handling back the notebook <font color='red'> rerun </font>the notebook from scratch !**\n",
    "`Kernel` > `Restart & Run All`\n",
    "\n",
    "We will not rerun the notebook for you.\n",
    "\n",
    "\n",
    "[iapr]: https://github.com/LTS5/iapr"
   ]
  },
  {
   "cell_type": "markdown",
   "metadata": {},
   "source": [
    "--\n",
    "## 0. Setup"
   ]
  },
  {
   "cell_type": "code",
   "execution_count": 1,
   "metadata": {},
   "outputs": [],
   "source": [
    "%load_ext autoreload\n",
    "%autoreload 2"
   ]
  },
  {
   "cell_type": "markdown",
   "metadata": {},
   "source": [
    "In this lab, we will use PyTorch. If you are not familiar with this library, [here](https://pytorch.org/tutorials/beginner/blitz/tensor_tutorial.html) is a quick tutorial of the basics."
   ]
  },
  {
   "cell_type": "code",
   "execution_count": 5,
   "metadata": {},
   "outputs": [
    {
     "name": "stdout",
     "output_type": "stream",
     "text": [
      "Windows\n",
      "Note: you may need to restart the kernel to use updated packages.Looking in links: https://download.pytorch.org/whl/torch_stable.html\n",
      "Collecting torch==1.8.1+cu111\n",
      "  Using cached https://download.pytorch.org/whl/cu111/torch-1.8.1%2Bcu111-cp39-cp39-win_amd64.whl (3055.6 MB)\n",
      "Collecting torchvision==0.9.1+cu111\n",
      "  Using cached https://download.pytorch.org/whl/cu111/torchvision-0.9.1%2Bcu111-cp39-cp39-win_amd64.whl (1.9 MB)\n",
      "Requirement already satisfied: typing-extensions in c:\\users\\gabma\\anaconda3\\lib\\site-packages (from torch==1.8.1+cu111) (4.4.0)\n",
      "Requirement already satisfied: numpy in c:\\users\\gabma\\anaconda3\\lib\\site-packages (from torch==1.8.1+cu111) (1.23.5)\n",
      "Requirement already satisfied: pillow>=4.1.1 in c:\\users\\gabma\\anaconda3\\lib\\site-packages (from torchvision==0.9.1+cu111) (9.4.0)\n",
      "Installing collected packages: torch, torchvision\n",
      "Successfully installed torch-1.8.1+cu111 torchvision-0.9.1+cu111\n",
      "\n"
     ]
    }
   ],
   "source": [
    "import platform\n",
    "print(platform.system())\n",
    "if platform.system() == \"Darwin\":\n",
    "    %pip install torch==1.8.1 torchvision==0.9.1\n",
    "else:\n",
    "    %pip install torch==1.8.1+cu111 torchvision==0.9.1+cu111 -f https://download.pytorch.org/whl/torch_stable.html"
   ]
  },
  {
   "cell_type": "code",
   "execution_count": 6,
   "metadata": {},
   "outputs": [],
   "source": [
    "import tarfile\n",
    "import os\n",
    "\n",
    "data_base_path = os.path.join(os.pardir, 'data')\n",
    "data_folder = 'lab-03-data'\n",
    "tar_path = os.path.join(data_base_path, data_folder + '.tar.gz')\n",
    "with tarfile.open(tar_path, mode='r:gz') as tar:\n",
    "    tar.extractall(path=data_base_path)"
   ]
  },
  {
   "cell_type": "markdown",
   "metadata": {},
   "source": [
    "---\n",
    "## Part 1 - Out-of-Distribution detection in colorectal cancer histology (12 points)\n",
    "\n",
    "Colorectal cancer is one of the most widespread cancers for men and women. Diagnosis complemented with prognostic and predictive biomarker information is essential for patient monitoring and applying personalized treatments. A critical marker is the tumor/stroma ratio in unhealthy tissues sampled from the colon. The higher the ratio, the more invasive the cancer is. The degree of invasion is tightly linked to patient survial probability.\n",
    "\n",
    "To measure the ratio, a pathologist needs to analyze the unhealthy tissue under a microscope and estimate it from a look. As the number of samples to analyze is huge and estimations are only sometimes precise, automatic recognition of the different tissue types in histological images has become essential. Such an automatic process requires the development of a multi-class classifier to identify the numerous tissues. As shown below, they are usually 8 tissue types to categorize: TUMOR, STROMA, LYMPHO (lymphocytes), MUCOSA, COMPLEX (complex stroma), DEBRIS, ADIPOSE and EMPTY (background).\n",
    "\n",
    "<br />\n",
    "<br />\n",
    "<figure>\n",
    "    <img src=\"../data/lab-03-data/part1/kather16.svg\" width=\"1100\">\n",
    "    <center>\n",
    "    <figcaption>Fig1: Collection of tissue types in colorectal cancer histology (Kather-16)</figcaption>\n",
    "    </center>\n",
    "</figure>\n",
    "<br />\n",
    "<br />\n",
    "\n",
    "\n",
    "Up to this day, state-of-the-art methods use deep-learning-based supervised learning methods. A downfall of such an approach is the necessity to access a well-annotated training dataset. In histology, annotating data is difficult. It is time-consuming and requires the expertise of pathologists. Moreover, the annotator must label every tissue type while only two (TUMOR and STROMA) are interesting. \n",
    "\n",
    "\n",
    "Consequently, we propose another approach. In order to make the annotation task less tedious, we ask the annotator to label only the tissues of interest and dump the others. Then, we must train a binary classifier to automatically recognize these tissues at test time. In this part, you will implement the proposed approach."
   ]
  },
  {
   "cell_type": "markdown",
   "metadata": {},
   "source": [
    "### 1.1 Binary classifier with Mahalanobis distance (3 points)\n",
    "\n",
    "Based on the abovementioned process, your task is to build a model that recognizes TUMOR (Label 0) and STROMA (Label 1) tissue types. Your model will be supervised by a training dataset containing TUMOR and STROMA annotations; note that all other tissues have been dropped.\n",
    "We will not ask you to train a deep-learning-based binary classifier from scratch. Instead, we provide excellent features (descriptors) of the images we extracted from a visual foundation model. (Note: As the nature of the foundation model is not part of this lecture, feel free to ask TAs if you are curious).\n",
    "\n",
    "Run the cell below to extract the provided train and test dataset. Each image is represented by a 768-d feature vector extracted from a visual foundation model. The train and test datasets contain feature vectors of 878 and 186 images respectively."
   ]
  },
  {
   "cell_type": "code",
   "execution_count": 7,
   "metadata": {},
   "outputs": [
    {
     "data": {
      "text/plain": [
       "torch.Size([186, 768])"
      ]
     },
     "execution_count": 7,
     "metadata": {},
     "output_type": "execute_result"
    }
   ],
   "source": [
    "import torch \n",
    "\n",
    "# Label mapping\n",
    "label_to_classname = {0 : \"TUMOR\", 1 : \"STROMA\"}\n",
    "\n",
    "# Train features and labels\n",
    "train_features = torch.load(os.path.join(data_base_path, data_folder, \"part1/k16_train_features.pth\"))\n",
    "train_labels = torch.load(os.path.join(data_base_path, data_folder, \"part1/k16_train_labels.pth\"))\n",
    "\n",
    "# Test features and labels\n",
    "test_features = torch.load(os.path.join(data_base_path, data_folder, \"part1/k16_test_features.pth\"))\n",
    "test_labels = torch.load(os.path.join(data_base_path, data_folder, \"part1/k16_test_labels.pth\"))\n",
    "\n",
    "test_features.shape"
   ]
  },
  {
   "cell_type": "markdown",
   "metadata": {},
   "source": [
    "**Task 1 (2.5 points)** Based on the training features (```train_features```) and training labels (```train_labels```), classify the test features (```test_features```) using minimum Mahalanobis distance.\n",
    "\n",
    "*Note:* You are not allowed to use any prebuilt Mahalanobis distance function. Additionally, ```torch.cov``` is not defined to compute the covariance matrix. You can use ```sklearn.covariance.LedoitWolf``` instead."
   ]
  },
  {
   "cell_type": "code",
   "execution_count": 48,
   "metadata": {},
   "outputs": [
    {
     "name": "stdout",
     "output_type": "stream",
     "text": [
      "torch.Size([768])\n",
      "torch.Size([768])\n",
      "torch.Size([186, 768])\n",
      "(186,)\n",
      "[0 0 0 0 0 0 0 0 0 0 0 0 0 0 0 0 0 0 0 0 0 0 0 0 0 0 0 0 0 0 0 0 0 0 0 0 0\n",
      " 0 0 0 0 0 0 0 0 0 0 0 0 0 0 0 0 0 0 0 0 0 0 0 0 0 0 0 0 0 0 0 0 0 0 0 0 0\n",
      " 0 0 0 0 0 0 0 0 0 0 0 0 0 0 0 0 0 0 0 1 1 1 1 1 1 1 1 1 1 1 1 1 1 1 1 1 1\n",
      " 1 1 1 1 1 1 1 1 1 1 1 1 1 1 1 1 1 1 1 1 1 1 1 1 1 1 1 1 1 1 1 1 1 1 1 1 1\n",
      " 1 1 1 1 1 1 1 1 1 1 1 1 1 1 1 1 1 1 1 1 1 1 1 1 1 1 1 1 1 1 1 1 1 1 1 1 1\n",
      " 1]\n"
     ]
    },
    {
     "name": "stderr",
     "output_type": "stream",
     "text": [
      "C:\\Users\\gabma\\AppData\\Local\\Temp\\ipykernel_29280\\1437207509.py:22: RuntimeWarning: invalid value encountered in sqrt\n",
      "  distance_tumors = np.diag(np.sqrt(np.dot(np.dot(diff, Sigma_inv),diff.T)))\n",
      "C:\\Users\\gabma\\AppData\\Local\\Temp\\ipykernel_29280\\1437207509.py:25: RuntimeWarning: invalid value encountered in sqrt\n",
      "  distance_stromas = np.diag(np.sqrt(np.dot(np.dot(diff, Sigma_inv),diff.T)))\n"
     ]
    }
   ],
   "source": [
    "### Task 1\n",
    "### YOUR CODE\n",
    "import sklearn\n",
    "import sklearn.covariance\n",
    "import numpy as np\n",
    "import matplotlib.pyplot as plt\n",
    "\n",
    "# First step : calculate the mean and covariance matrix of the training data\n",
    "\n",
    "tumors = train_features[train_labels == 0]\n",
    "stromas = train_features[train_labels == 1]\n",
    "\n",
    "mu_tumors = tumors.mean(axis=0)\n",
    "print(mu_tumors.shape)\n",
    "mu_stromas = stromas.mean(axis=0)\n",
    "print(mu_stromas.shape)\n",
    "\n",
    "Sigma_inv = np.linalg.inv(sklearn.covariance.LedoitWolf().fit(train_features).covariance_)\n",
    "\n",
    "diff = (test_features-mu_tumors)\n",
    "distance_tumors = np.diag(np.sqrt(np.dot(np.dot(diff, Sigma_inv),diff.T)))\n",
    "diff = (test_features-mu_stromas)\n",
    "distance_stromas = np.diag(np.sqrt(np.dot(np.dot(diff, Sigma_inv),diff.T)))\n",
    "predictions = (distance_tumors > distance_stromas).astype(int)"
   ]
  },
  {
   "cell_type": "markdown",
   "metadata": {},
   "source": [
    "**Task 2 (0.5 points)** Compute the accuracy of your predictions with the test labels (```test_labels```)."
   ]
  },
  {
   "cell_type": "code",
   "execution_count": 49,
   "metadata": {},
   "outputs": [
    {
     "name": "stdout",
     "output_type": "stream",
     "text": [
      "1.0\n"
     ]
    }
   ],
   "source": [
    "### Task 2\n",
    "### YOUR CODE\n",
    "accuracy = (predictions == test_labels).sum()/len(test_labels)\n",
    "print(accuracy)"
   ]
  },
  {
   "cell_type": "markdown",
   "metadata": {},
   "source": [
    "### 1.2 Out-of-Distribution detection with Mahalanobis distance (3 points)\n",
    "\n",
    "You will note that the test you run above is not really realistic. Like the training set, it contains only the TUMOR and STROMA tissue types. Nevertheless, at test time, the other tissues (Label -1) are also present and cannot be filtered by hand. Moreover, they cannot be recognized by the model as they are out of the training distribution (It is the consequence of the laziness of the annotators ;)). For this reason, it is essential to filter them out. This task is called Out-of-Distribution (OoD) detection. \n",
    "\n",
    "A simple way to do OoD detection is to compute for every test example an OoD-ness score which should be low for In-Distribution (ID) examples and high for OoDs. Then we define a threshold from which every example with an OoD-ness lying above is discarded, and those lying below are forwarded to the model for prediction. An example of OoD-ness score is the minimum Mahalanobis distance.\n",
    "\n",
    "Run the cell below to load a new test set containing OoD examples. It has 186 ID and 558 OoD examples."
   ]
  },
  {
   "cell_type": "code",
   "execution_count": 78,
   "metadata": {},
   "outputs": [
    {
     "data": {
      "text/plain": [
       "(744,)"
      ]
     },
     "execution_count": 78,
     "metadata": {},
     "output_type": "execute_result"
    }
   ],
   "source": [
    "label_to_classname_w_ood = {0 : \"TUMOR\", 1 : \"STROMA\", -1 : \"OoD\"}\n",
    "\n",
    "# Test features and labels with OoD tissues\n",
    "test_features_w_ood = torch.load(os.path.join(data_base_path, data_folder, \"part1/k16_test2_features.pth\"))\n",
    "test_labels_w_ood = torch.load(os.path.join(data_base_path, data_folder,\"part1/k16_test2_labels.pth\"))\n",
    "\n",
    "test_labels_w_ood.shape\n"
   ]
  },
  {
   "cell_type": "markdown",
   "metadata": {},
   "source": [
    "**Task 1 (0.5 point)** Why do you think the minimum Mahalanobis distance is a good OoD-ness score?"
   ]
  },
  {
   "attachments": {},
   "cell_type": "markdown",
   "metadata": {},
   "source": [
    "**Answer:**\n",
    "The goal of an OoD-ness score is to measure how much a sample is different from the training data. In other words, this score should be high when the sample is different from the training data, and low otherwise. This is exactly what the mahalanobis distance does. It is a measure of the distance between a point and a distribution. It is a generalization of the euclidean distance that takes into account the covariance matrix of the distribution. It is therefore a good measure of the distance between a point and a distribution, and can be used as a measure of OoD-ness."
   ]
  },
  {
   "cell_type": "markdown",
   "metadata": {},
   "source": [
    "**Task 2 (0.5 point)** Compute the minimum Mahalanobis distance for every test examples in ```test_features_w_ood``` with respect to the training features (```train_features```)."
   ]
  },
  {
   "cell_type": "code",
   "execution_count": 77,
   "metadata": {},
   "outputs": [
    {
     "name": "stdout",
     "output_type": "stream",
     "text": [
      "(744,)\n"
     ]
    },
    {
     "name": "stderr",
     "output_type": "stream",
     "text": [
      "C:\\Users\\gabma\\AppData\\Local\\Temp\\ipykernel_29280\\195679697.py:18: RuntimeWarning: invalid value encountered in sqrt\n",
      "  distance_tumors = np.diag(np.sqrt(np.dot(np.dot(diff, Sigma_inv),diff.T)))\n",
      "C:\\Users\\gabma\\AppData\\Local\\Temp\\ipykernel_29280\\195679697.py:20: RuntimeWarning: invalid value encountered in sqrt\n",
      "  distance_stromas = np.diag(np.sqrt(np.dot(np.dot(diff, Sigma_inv),diff.T)))\n"
     ]
    }
   ],
   "source": [
    "### Task 2\n",
    "### YOUR CODE\n",
    "import sklearn\n",
    "import sklearn.covariance\n",
    "import numpy as np\n",
    "import matplotlib.pyplot as plt\n",
    "\n",
    "tumors = train_features[train_labels == 0]\n",
    "stromas = train_features[train_labels == 1]\n",
    "\n",
    "mu_tumors = tumors.mean(axis=0)\n",
    "mu_stromas = stromas.mean(axis=0)\n",
    "\n",
    "\n",
    "Sigma_inv = np.linalg.inv(sklearn.covariance.LedoitWolf().fit(train_features).covariance_)\n",
    "\n",
    "diff = (test_features_w_ood-mu_tumors)\n",
    "distance_tumors = np.diag(np.sqrt(np.dot(np.dot(diff, Sigma_inv),diff.T)))\n",
    "diff = (test_features_w_ood-mu_stromas)\n",
    "distance_stromas = np.diag(np.sqrt(np.dot(np.dot(diff, Sigma_inv),diff.T)))\n",
    "final_dist = np.minimum(distance_tumors, distance_stromas)\n",
    "print(final_dist.shape)\n",
    "predictions = (distance_tumors > distance_stromas).astype(int)\n"
   ]
  },
  {
   "cell_type": "markdown",
   "metadata": {},
   "source": [
    "**Task 3 (0.5 point)** Plot a histogram to show the difference between the Mahalanobis distance of TUMOR, STROMA and OoD tissue types and comment on what you observe."
   ]
  },
  {
   "cell_type": "code",
   "execution_count": 89,
   "metadata": {},
   "outputs": [
    {
     "data": {
      "image/png": "[encoded data removed]",
      "text/plain": [
       "<Figure size 640x480 with 1 Axes>"
      ]
     },
     "metadata": {},
     "output_type": "display_data"
    },
    {
     "data": {
      "image/png": "[encoded data removed]",
      "text/plain": [
       "<Figure size 640x480 with 1 Axes>"
      ]
     },
     "metadata": {},
     "output_type": "display_data"
    }
   ],
   "source": [
    "### Task 3\n",
    "### YOUR CODE\n",
    "tumors_dist = final_dist[test_labels_w_ood == 0]\n",
    "stromas_dist = final_dist[test_labels_w_ood == 1]\n",
    "OoD_dist = final_dist[test_labels_w_ood == -1]\n",
    "plt.hist(tumors_dist, bins=100, alpha=1, label='Tumors')\n",
    "plt.xlim((0,100))\n",
    "plt.hist(stromas_dist, bins=100, alpha=1, label='Stromas')\n",
    "plt.show()\n",
    "plt.hist(OoD_dist, bins=100, alpha=1, label='OoD')\n",
    "plt.xlim((0,100))\n",
    "plt.show()\n"
   ]
  },
  {
   "cell_type": "markdown",
   "metadata": {},
   "source": [
    "**Observations:**"
   ]
  },
  {
   "cell_type": "markdown",
   "metadata": {},
   "source": [
    "**Task 4 (1 point)** Find a threshold on the Mahalanobis distance such that 95% of the OoD examples are filtered out. How much TUMOR and STROMA have also been filtered out?"
   ]
  },
  {
   "cell_type": "code",
   "execution_count": 73,
   "metadata": {},
   "outputs": [
    {
     "name": "stdout",
     "output_type": "stream",
     "text": [
      "27.627481\n",
      "87\n",
      "74\n"
     ]
    }
   ],
   "source": [
    "### Task 4\n",
    "### YOUR CODE\n",
    "sorted_dist = np.sort(final_dist)\n",
    "threshold = sorted_dist[int(0.05*len(sorted_dist))]\n",
    "print(threshold)\n",
    "# Number of tumor that will be filtered out :\n",
    "nb_tumors_filtered = (tumors_dist > threshold).sum()\n",
    "print(nb_tumors_filtered)\n",
    "\n",
    "# Number of stroma that will be filtered out :\n",
    "nb_stromas_filtered = (stromas_dist > threshold).sum()\n",
    "print(nb_stromas_filtered)\n",
    "\n"
   ]
  },
  {
   "cell_type": "markdown",
   "metadata": {},
   "source": [
    "**Task 5 (0.5 point)** Assign prediction -1 to filtered out examples and compute the average class-wise accuracy of your prediction with test labels (```test_labels_w_ood```). Is it satisfactory?"
   ]
  },
  {
   "cell_type": "code",
   "execution_count": 79,
   "metadata": {},
   "outputs": [
    {
     "name": "stdout",
     "output_type": "stream",
     "text": [
      "(744,)\n",
      "0.7661290322580645\n"
     ]
    }
   ],
   "source": [
    "### Task 5\n",
    "### YOUR CODE\n",
    "predictions[final_dist > threshold] = -1\n",
    "accuracy = (predictions == test_labels_w_ood).sum()/len(test_labels_w_ood)\n",
    "print(accuracy)"
   ]
  },
  {
   "cell_type": "markdown",
   "metadata": {},
   "source": [
    "### 1.3 Out-of-distribution detection with k-NN classifier (6 points)\n",
    "\n",
    "The visual foundation models are known to be very good k-NN classifiers. It motivates us to implement a k-NN classifier to recognize TUMOR and STROMA. Moreover, k-NN distance is a good OoD-ness score and suits our task.\n",
    "\n",
    "**Task 1 (2 points)** Based on the training features (```train_features```) and training labels (```train_labels```), classify the test features (```test_features```) using a k-NN classifier. Then report the accuracy of your predictions with the test labels (```test_labels```).\n",
    "\n",
    "*Note:* The choice of `k` is up to you."
   ]
  },
  {
   "cell_type": "code",
   "execution_count": 84,
   "metadata": {},
   "outputs": [
    {
     "name": "stdout",
     "output_type": "stream",
     "text": [
      "1.0\n"
     ]
    }
   ],
   "source": [
    "### Task 1\n",
    "### YOUR CODE\n",
    "import sklearn\n",
    "import sklearn.neighbors\n",
    "\n",
    "# k-NN classifier to classify test_features:\n",
    "knn = sklearn.neighbors.KNeighborsClassifier(n_neighbors=10)\n",
    "knn.fit(train_features, train_labels)\n",
    "predictions = knn.predict(test_features)\n",
    "\n",
    "accuracy = (predictions == test_labels).sum()/len(test_labels)\n",
    "print(accuracy)\n"
   ]
  },
  {
   "cell_type": "code",
   "execution_count": 86,
   "metadata": {},
   "outputs": [
    {
     "name": "stdout",
     "output_type": "stream",
     "text": [
      "1.0\n"
     ]
    }
   ],
   "source": [
    "# Implementation of the Knn classifier without using sklearn :\n",
    "def knn_classifier(train_features, train_labels, test_features, k):\n",
    "    predictions = []\n",
    "    for test_feature in test_features:\n",
    "        distances = np.linalg.norm(train_features - test_feature, axis=1)\n",
    "        sorted_indices = np.argsort(distances)\n",
    "        k_nearest_labels = train_labels[sorted_indices[:k]]\n",
    "        predictions.append(np.argmax(np.bincount(k_nearest_labels)))\n",
    "    return np.array(predictions)\n",
    "\n",
    "predictions = knn_classifier(train_features, train_labels, test_features, 10)\n",
    "accuracy = (predictions == test_labels).sum()/len(test_labels)\n",
    "print(accuracy)"
   ]
  },
  {
   "cell_type": "markdown",
   "metadata": {},
   "source": [
    "**Task 2 (2 points)** Perform OoD detection on the test features (```test_features_w_ood```) using a k-NN distance based OoD-ness score. Find a threshold on your OoD-ness score such that 95% of the OoD examples are filtered out. How much TUMOR and STROMA have also been filtered out? Finally, assign prediction -1 to filter out examples and compute the average class-wise accuracy of your prediction with test labels (```test_labels_w_ood```).\n",
    "\n",
    "*Note:* The OoD-ness is based on the distance to the k-nearest neighbors. The formulation is up to you. You have to justify your choice."
   ]
  },
  {
   "cell_type": "code",
   "execution_count": 95,
   "metadata": {},
   "outputs": [
    {
     "name": "stdout",
     "output_type": "stream",
     "text": [
      "(744,)\n",
      "(744,)\n",
      "44.06264406004819\n",
      "0.7956989247311828\n"
     ]
    }
   ],
   "source": [
    "### Task 2\n",
    "### YOUR CODE\n",
    "\n",
    "# k-NN distance based OoD-ness score :\n",
    "knn = sklearn.neighbors.KNeighborsClassifier(n_neighbors=10)\n",
    "knn.fit(train_features, train_labels)\n",
    "predictions = knn_classifier(train_features, train_labels, test_features_w_ood, 10)\n",
    "final_dist = knn.kneighbors(test_features_w_ood, return_distance=True)[0][:, -1]\n",
    "sorted_dist = np.sort(final_dist)\n",
    "threshold = sorted_dist[int(0.05*len(sorted_dist))]\n",
    "print(threshold)\n",
    "\n",
    "predictions[final_dist > threshold] = -1\n",
    "accuracy = (predictions == test_labels_w_ood).sum()/len(test_labels_w_ood)\n",
    "print(accuracy)\n",
    "\n",
    "# The accuracy obtained with k-NN is higher than the one obtained with the Mahalanobis distance. \n",
    "# This can be explained by the fact that \n",
    "\n",
    "\n",
    "\n"
   ]
  },
  {
   "cell_type": "markdown",
   "metadata": {},
   "source": [
    "**Task 3 (1 point)** Is k-NN better than Mahalanobis distance ? Make an hypothesis for the reasons."
   ]
  },
  {
   "attachments": {},
   "cell_type": "markdown",
   "metadata": {},
   "source": [
    "**Answer:**\n",
    "The accuracy obtained with k-NN is higher than the one obtained with the Mahalanobis distance. This can be explained by multiple factors:\n",
    "\n",
    "Data Nature: Mahalanobis distance assumes Gaussian distribution, which may not be suitable for the data.\n",
    "\n",
    "Feature Space: k-NN is more flexible in capturing complex patterns compared to the Mahalanobis distance.\n",
    "\n",
    "Class Imbalance: k-NN can handle class imbalance better than the Mahalanobis distance.\n",
    "\n",
    "Robustness to Outliers: k-NN is more robust to outliers compared to the Mahalanobis distance.\n",
    "\n",
    "Flexibility and Adaptability: k-NN can adapt to different tasks by adjusting the value of k, unlike the fixed Mahalanobis distance."
   ]
  },
  {
   "cell_type": "markdown",
   "metadata": {},
   "source": [
    "**Task 4 (1 point)** Do you think we can suggest the approach presented in this exercise to compute TUMOR/STROMA ratio automatically ? Justify your thoughs. If not, suggest at least two ideas to improve it.\n",
    "\n",
    "*Note:* Annotating all the training dataset is not an option."
   ]
  },
  {
   "attachments": {},
   "cell_type": "markdown",
   "metadata": {},
   "source": [
    "**Answer:** Suggested Approach for TUMOR/STROMA Ratio Computation:\n",
    "\n",
    "Incomplete Labeling: The proposed approach only focuses on labeling the tissues of interest (TUMOR and STROMA) while ignoring the other tissue types. However, the TUMOR/STROMA ratio calculation requires knowledge of all tissue types present in the histology image. Without complete labeling, it would be challenging to accurately compute the ratio.\n",
    "\n",
    "Limited Information: The binary classifier trained using the proposed approach can only identify TUMOR and STROMA tissues, but it may not provide sufficient information for computing the ratio. The ratio calculation typically involves considering the area or proportion of different tissue types in the histology image, which requires more detailed annotations beyond just binary classification.\n",
    "\n",
    "Improvement Ideas:\n",
    "\n",
    "Semi-Supervised Learning: Adopt a semi-supervised approach by incorporating fully labeled samples and leveraging unlabeled data for enhanced training.\n",
    "\n",
    "Active Learning: Utilize active learning techniques to selectively query the annotator for labeling informative samples, improving the model with minimal annotation efforts."
   ]
  },
  {
   "cell_type": "markdown",
   "metadata": {},
   "source": [
    "---\n",
    "\n",
    "## Part 2 (12 points)\n",
    "In this part, we aim to classify cervical cells resulting from Pap smear tests. To that end we'll be using a publicly available cell dataset: Sipakmed (https://www.cs.uoi.gr/~marina/sipakmed.html). The dataset is composed of 4049 images of isolated cells cropped from 966 cluster cell images of Pap smear slides. Each cell in the dataset has been categorized in either of the following categories: \n",
    "\n",
    "    - Superficial-Intermediate.\n",
    "    - Parabasal.\n",
    "    - Koilocytotic.\n",
    "    - Dysketarotic.\n",
    "    - Metaplastic.\n",
    "Your objective is to implement a classifier to automate the cell classification process. To ease your work we provide you with pre-computed embeddings for each images (`lab-03-data/part2/sipakmed_clean_embeddings.pth`). The embeddings are obtained from a pre-trained ResNet-50 (https://arxiv.org/pdf/1512.03385.pdf) and the corresponding images are also provided (`lab-03-data/part2/sipakmed_clean`). Note that you are free to discard the provided embeddings and work directy with the images."
   ]
  },
  {
   "cell_type": "markdown",
   "metadata": {},
   "source": [
    "### 2.1 Dataset (4 points)\n",
    "Your first task is prepare the dataset such that it can be used to train your model. For that purpose we prepared the skeleton of the class `Sipakmed` that inherits from the class `Dataset` of PyTorch. Read the documentation (https://pytorch.org/tutorials/beginner/basics/data_tutorial.html#creating-a-custom-dataset-for-your-files) and complete the missing parts."
   ]
  },
  {
   "cell_type": "code",
   "execution_count": 7,
   "metadata": {},
   "outputs": [],
   "source": [
    "import torch\n",
    "import numpy as np\n",
    "from torch.utils.data import Dataset, DataLoader\n",
    "import matplotlib.pyplot as plt\n",
    "from PIL import Image\n",
    "import os\n",
    "from torch import nn\n",
    "from collections import OrderedDict\n",
    "from sklearn.metrics import confusion_matrix, ConfusionMatrixDisplay\n",
    "import math"
   ]
  },
  {
   "cell_type": "code",
   "execution_count": 11,
   "metadata": {},
   "outputs": [],
   "source": [
    "# Load the features\n",
    "features_path = '../data/lab-03-data/part2/sipakmed_clean_embeddings.pth'"
   ]
  },
  {
   "cell_type": "code",
   "execution_count": 12,
   "metadata": {},
   "outputs": [],
   "source": [
    "class Sipakmed(Dataset):\n",
    "    phase_dict = {\n",
    "            'train': {'start': 0.0, 'stop': 0.5},\n",
    "            'val': {'start': 0.5, 'stop': 0.75},\n",
    "            'test': {'start': 0.75, 'stop': 1.0}\n",
    "    }\n",
    "    label_dict = {\n",
    "        'im_Superficial-Intermediate': 0,\n",
    "        'im_Parabasal': 1, \n",
    "        'im_Metaplastic': 2,\n",
    "        'im_Koilocytotic': 3,\n",
    "        'im_Dyskeratotic': 4\n",
    "    }\n",
    "    \n",
    "    def __init__(self, features_path, phase):\n",
    "\n",
    "        super(Sipakmed, self).__init__()\n",
    "        # Store class attributes\n",
    "        self.phase = phase\n",
    "        \n",
    "        # Collect the dataimport torch\n",
    "        import torch.nn.functional as F\n",
    "        import numpy as np\n",
    "        self.raw_data = torch.load(features_path)\n",
    "        self.features, self.labels, self.paths = self.collect_data()\n",
    "        \n",
    "    def collect_data(self):\n",
    "        # Iterate over the dirs/classes\n",
    "        features, labels, paths = [], [], []\n",
    "        for dir_name, dir_dict in self.raw_data.items():\n",
    "            # Get the paths and embeddings\n",
    "            dir_paths, dir_embeddings = list(zip(*[(k, v) for k, v in dir_dict.items()]))\n",
    "            \n",
    "            # Split\n",
    "            n = len(dir_paths)\n",
    "            np.random.seed(42)\n",
    "            permutations = np.random.permutation(n)\n",
    "            dir_paths = np.array(dir_paths)[permutations]\n",
    "            dir_embeddings = torch.stack(dir_embeddings)[permutations]\n",
    "            n_start = int(n * self.phase_dict[self.phase]['start'])\n",
    "            n_stop = int(n * self.phase_dict[self.phase]['stop'])\n",
    "            dir_embeddings = dir_embeddings[n_start: n_stop]\n",
    "            dir_paths = dir_paths[n_start: n_stop]\n",
    "    \n",
    "            # Store\n",
    "            features.append(dir_embeddings)\n",
    "            paths.append(dir_paths)\n",
    "            dir_labels = torch.tensor([self.label_dict[p.split('/')[-2]] for p in dir_paths])\n",
    "            labels.append(dir_labels)\n",
    "            \n",
    "        # Merge\n",
    "        features = torch.cat(features)\n",
    "        labels = torch.cat(labels)\n",
    "        paths = np.concatenate(paths)\n",
    "        return features, labels, paths\n",
    "            \n",
    "        \n",
    "    def __len__(self):\n",
    "        \"\"\"\n",
    "        Returns the number of samples in the dataset.\n",
    "        \"\"\"\n",
    "        return len(self.features)\n",
    "\n",
    "    def __getitem__(self, index):\n",
    "        \"\"\"\n",
    "        Returns the embedding, label, and image path of the queried index.\n",
    "        \"\"\"\n",
    "        embedding = self.features[index]\n",
    "        label = self.labels[index]\n",
    "        path = self.paths[index]\n",
    "        return embedding, label, path"
   ]
  },
  {
   "cell_type": "markdown",
   "metadata": {},
   "source": [
    "Once the implementation of `Sipakmed` completed, create 3 instances of the class (train/val/test) with the corresponding `phase` flag."
   ]
  },
  {
   "cell_type": "code",
   "execution_count": 13,
   "metadata": {},
   "outputs": [],
   "source": [
    "# Instantiate the datasets\n",
    "train_dataset = Sipakmed(features_path, phase=\"train\")\n",
    "val_dataset = Sipakmed(features_path, phase=\"val\")\n",
    "test_dataset = Sipakmed(features_path, phase=\"test\")"
   ]
  },
  {
   "cell_type": "markdown",
   "metadata": {},
   "source": [
    "Now that your datasets are ready, use the class `DataLoader` from PyTorch to let it handle efficiently the batching, shuffling, etc. of your data."
   ]
  },
  {
   "cell_type": "code",
   "execution_count": 14,
   "metadata": {},
   "outputs": [],
   "source": [
    "# Instantiate the data loaders\n",
    "train_loader = DataLoader(train_dataset, batch_size=32, shuffle=True)\n",
    "val_loader = DataLoader(val_dataset, batch_size=32, shuffle=True)\n",
    "test_loader = DataLoader(test_dataset, batch_size=32, shuffle=True)"
   ]
  },
  {
   "cell_type": "markdown",
   "metadata": {},
   "source": [
    "Get to know your data. Plot a few example images for each class of your dataset."
   ]
  },
  {
   "cell_type": "code",
   "execution_count": 33,
   "metadata": {},
   "outputs": [
    {
     "name": "stdout",
     "output_type": "stream",
     "text": [
      "../data/lab-03-data/part2/sipakmed_clean/im_Superficial-Intermediate/069_10.jpg\n",
      "../data/lab-03-data/part2/sipakmed_clean/im_Parabasal/031_01.jpg\n",
      "../data/lab-03-data/part2/sipakmed_clean/im_Metaplastic/001_12.jpg\n",
      "../data/lab-03-data/part2/sipakmed_clean/im_Koilocytotic/071_01.jpg\n",
      "../data/lab-03-data/part2/sipakmed_clean/im_Dyskeratotic/164_10.jpg\n"
     ]
    },
    {
     "data": {
      "image/png": "[encoded data removed]",
      "text/plain": [
       "<Figure size 640x480 with 5 Axes>"
      ]
     },
     "metadata": {},
     "output_type": "display_data"
    }
   ],
   "source": [
    "# Visualize some training example\n",
    "### YOUR CODE\n",
    "\n",
    "folder_path='../data/lab-03-data/part2/'\n",
    "fig, ax=plt.subplots(5)\n",
    "i=0\n",
    "for item in train_loader:\n",
    "    # Perform your training or evaluation on the batched data\n",
    "    embeddings, labels, paths= item\n",
    "    unique_labels = np.unique(labels)  # Get unique class labels\n",
    "\n",
    "    # Plot one embedding for each class\n",
    "    list_embeddings=[]\n",
    "    list_paths=[]\n",
    "    for label in unique_labels:\n",
    "        # Find the first embedding corresponding to the current label\n",
    "        index = np.where(labels == label)[0][0]\n",
    "        embedding = embeddings[index]\n",
    "        path=folder_path+paths[index]\n",
    "        list_embeddings.append(embedding)\n",
    "        list_paths.append(path)\n",
    "\n",
    "for i in range(len(list_paths)):\n",
    "    print(list_paths[i])\n",
    "    img=plt.imread(list_paths[i])\n",
    "    ax[i].imshow(img)\n"
   ]
  },
  {
   "cell_type": "markdown",
   "metadata": {},
   "source": [
    "### 2.2 Training (4 points)\n",
    "In this part your objective is to implement the required tools to train your model. The first thing you'll need is a a model which takes as input the pre-computed features and returns the corresponding class probabilities/logits."
   ]
  },
  {
   "cell_type": "code",
   "execution_count": null,
   "metadata": {},
   "outputs": [],
   "source": [
    "# Implement the model\n",
    "embedding_dim = train_dataset.features.shape[1]\n",
    "model = ### YOUR CODE"
   ]
  },
  {
   "cell_type": "markdown",
   "metadata": {},
   "source": [
    "The optimizer will keep track of your model's parameters, gradients, etc (https://pytorch.org/docs/stable/optim.html). It is responsible to update your model's parameters after each forward pass using the backpropagation algorithm."
   ]
  },
  {
   "cell_type": "code",
   "execution_count": null,
   "metadata": {},
   "outputs": [],
   "source": [
    "# Set the optimizer\n",
    "optimizer = ### YOUR CODE"
   ]
  },
  {
   "cell_type": "code",
   "execution_count": null,
   "metadata": {},
   "outputs": [],
   "source": [
    "# Set the loss\n",
    "criterion = ### YOUR CODE"
   ]
  },
  {
   "cell_type": "markdown",
   "metadata": {},
   "source": [
    "Implement a function that takes as input the model's output and the corresponding labels and returns the perçentage of correct predictions."
   ]
  },
  {
   "cell_type": "code",
   "execution_count": null,
   "metadata": {},
   "outputs": [],
   "source": [
    "def accuracy(outputs, labels):\n",
    "    \"\"\"\n",
    "    Computes the accuracy of predictions based on the model outputs (NxK: N samples, K classes) \n",
    "    and the labels (N: N samples).\n",
    "    \"\"\"\n",
    "    ### YOUR CODE"
   ]
  },
  {
   "cell_type": "markdown",
   "metadata": {},
   "source": [
    "Implement a funtion `train` that forwards the complete training set through your model (= 1 epoch) and updates its parameters after each forward pass. To keep track of the training process make sure to at least return the accuracy of the model and the average loss it incurred through the current epoch."
   ]
  },
  {
   "cell_type": "code",
   "execution_count": null,
   "metadata": {},
   "outputs": [],
   "source": [
    "def train(model, optimizer, criterion, loader):\n",
    "    # Set the model in train mode\n",
    "    ### YOUR CODE\n",
    "    \n",
    "    # Iterate over the batches\n",
    "    full_outputs = []\n",
    "    full_labels = []\n",
    "    losses = []\n",
    "    for batch in loader:\n",
    "        # Get the embeddings, labels and paths \n",
    "        ### YOUR CODE\n",
    "        \n",
    "        # Feed the embeddings to the model\n",
    "        ### YOUR CODE\n",
    "\n",
    "        # Compute cross entropy loss\n",
    "        ### YOUR CODE\n",
    "        \n",
    "        # Reset the gradients\n",
    "        ### YOUR CODE\n",
    "        \n",
    "        # Backpropagate\n",
    "        ### YOUR CODE\n",
    "\n",
    "        # Update the parameters\n",
    "        ### YOUR CODE\n",
    "        \n",
    "        # Store the outputs, labels and loss\n",
    "        ### YOUR CODE\n",
    "    \n",
    "    # Concat\n",
    "    full_outputs = torch.cat(full_outputs).cpu()\n",
    "    full_labels = torch.cat(full_labels).cpu()\n",
    "    losses = torch.stack(losses).mean().cpu()\n",
    "    \n",
    "    # Compute the accuracy\n",
    "    ### YOUR CODE\n",
    "    return acc, full_outputs, full_labels, losses"
   ]
  },
  {
   "cell_type": "markdown",
   "metadata": {},
   "source": [
    "Implement a funtion `validate` that forwards the complete validation or test set through your model and evaluates its predictions. To keep track of the training process make sure to at least return the accuracy of the model and the average loss it incurred through the current epoch."
   ]
  },
  {
   "cell_type": "code",
   "execution_count": null,
   "metadata": {},
   "outputs": [],
   "source": [
    "@torch.no_grad()\n",
    "def validate(model, criterion, loader):\n",
    "    # Set the model in train mode\n",
    "    ### YOUR CODE\n",
    "    \n",
    "    # Iterate over the batches\n",
    "    full_outputs = []\n",
    "    full_labels = []\n",
    "    full_paths = []\n",
    "    losses = []\n",
    "    for batch in loader:\n",
    "        # Get the embeddings, labels and paths\n",
    "        ### YOUR CODE\n",
    "        \n",
    "        # Feed the embeddings to the model\n",
    "        ### YOUR CODE\n",
    "\n",
    "        # Compute cross entropy loss\n",
    "        l### YOUR CODE\n",
    "        \n",
    "        # Store the outputs, labels and loss\n",
    "        ### YOUR CODE\n",
    "    \n",
    "    # Concat\n",
    "    full_outputs = torch.cat(full_outputs).cpu()\n",
    "    full_labels = torch.cat(full_labels).cpu()\n",
    "    losses = torch.stack(losses).mean().cpu()\n",
    "    full_paths = np.concatenate(full_paths)\n",
    "    \n",
    "    # Compute the accuracy\n",
    "    ### YOUR CODE\n",
    "    return acc, full_outputs, full_labels, losses, full_paths"
   ]
  },
  {
   "cell_type": "markdown",
   "metadata": {},
   "source": [
    "You should now be able to train you model. Alternate between training and validation steps to find and save the best model (best accuracy on the validation set)."
   ]
  },
  {
   "cell_type": "code",
   "execution_count": null,
   "metadata": {},
   "outputs": [],
   "source": [
    "# Main loop\n",
    "epochs = ### YOUR CODE\n",
    "best_acc = ### YOUR CODE\n",
    "model_savepath = '../data'\n",
    "\n",
    "for epoch in range(epochs):\n",
    "    # Train\n",
    "    ### YOUR CODE\n",
    "\n",
    "    # Evaluate\n",
    "    ### YOUR CODE\n",
    "    \n",
    "    # Save the model\n",
    "    if val_acc > best_acc:\n",
    "        ### YOUR CODE"
   ]
  },
  {
   "cell_type": "markdown",
   "metadata": {},
   "source": [
    "### 2.3 Evaluation (4 points)\n",
    "Re-load the best model and evaluate its predictions on the test set."
   ]
  },
  {
   "cell_type": "code",
   "execution_count": null,
   "metadata": {},
   "outputs": [],
   "source": [
    "# Re-load the best model\n",
    "### YOUR CODE\n",
    "\n",
    "# Evaluate\n",
    "### YOUR CODE"
   ]
  },
  {
   "cell_type": "markdown",
   "metadata": {},
   "source": [
    "A useful tool to analyze your model's performance on the different classes is the confusion matrix (https://scikit-learn.org/stable/modules/generated/sklearn.metrics.confusion_matrix.html). Computes its entries for your model and the test set."
   ]
  },
  {
   "cell_type": "code",
   "execution_count": null,
   "metadata": {},
   "outputs": [],
   "source": [
    "# Display the confusion matrix\n",
    "### YOUR CODE"
   ]
  },
  {
   "cell_type": "markdown",
   "metadata": {},
   "source": [
    "Alternatively it can be useful to plot the problematic samples as well as the predicted and ground truth classes. Can you do so?"
   ]
  },
  {
   "cell_type": "code",
   "execution_count": null,
   "metadata": {},
   "outputs": [],
   "source": [
    "# Find the misclassified samples\n",
    "### YOUR CODE\n",
    "\n",
    "# Plot the misclassified samples\n",
    "### YOUR CODE"
   ]
  }
 ],
 "metadata": {
  "kernelspec": {
   "display_name": "Python 3",
   "language": "python",
   "name": "python3"
  },
  "language_info": {
   "codemirror_mode": {
    "name": "ipython",
    "version": 3
   },
   "file_extension": ".py",
   "mimetype": "text/x-python",
   "name": "python",
   "nbconvert_exporter": "python",
   "pygments_lexer": "ipython3",
   "version": "3.7.6"
  }
 },
 "nbformat": 4,
 "nbformat_minor": 2
}
